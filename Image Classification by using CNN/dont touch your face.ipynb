Convolutional Neural Network (CNN) model for 
facial expression recognition using a dataset consisting of 35,887 
images. The dataset was collected specifically for this project and 
includes various facial expressions categorized into different 7 
classes which are sad, happy, surprise ,neutral, fear, disgust, angry 
and second research on a unique dataset created using Teachable 
Machine, which includes three specific categories: "Touch," "No 
hands," and "No Touch with Hands” classes in the dataset. 

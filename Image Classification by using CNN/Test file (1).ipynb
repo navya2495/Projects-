{
 "cells": [
  {
   "cell_type": "code",
   "execution_count": null,
   "id": "dc77ce29-4b84-4759-b10b-97dabebd0ccd",
   "metadata": {},
   "outputs": [],
   "source": [
    "# Load your trained model\n",
    "from tensorflow.keras.models import load_model\n",
    "from tensorflow.keras.preprocessing.image import ImageDataGenerator\n",
    "\n",
    "base_path = \"C:\\\\Users\\\\jalad\\\\Downloads\\\\final dataset\" # base path\n",
    "test_data_dir = \"\"                                  # test data path \n",
    "model = load_model('model_cb.h5')  # this is the weights of th trained model\n",
    "\n",
    "# data generator for the new testing data\n",
    "test_datagen = ImageDataGenerator(rescale=1./255)\n",
    "# a data generator for the new testing data\n",
    "test_generator = test_datagen.flow_from_directory(\n",
    "    test_data_dir,         \n",
    "    target_size=(112, 112), # target size\n",
    "    batch_size=64,         # batch size\n",
    "    class_mode='categorical', # type of labels\n",
    "    shuffle=False  # do not shuffle the data\n",
    ")\n",
    "\n",
    "# Evaluate the model on the new testing data\n",
    "test_loss, test_acc = model.evaluate_generator(test_generator)  \n",
    "print(f'Test loss: {test_loss:.4f}, Test accuracy: {test_acc:.4f}') #the test loss and test accuracy\n",
    "\n",
    "# Make predictions on the new testing data \n",
    "predictions = model.predict(test_generator)"
   ]
  },
  {
   "cell_type": "code",
   "execution_count": null,
   "id": "65ce1ee3-63f7-4315-a0c6-a844b1d49d44",
   "metadata": {},
   "outputs": [],
   "source": [
    "\n",
    "import numpy as np\n",
    "\n",
    "# Retrieve the predicted class labels by choosing the class with the highest probability for each prediction.\n",
    "predict = [np.argmax(probas) for probas in predictions]\n",
    "# the actual class labels from the data and save them into the variable named 'test'.\n",
    "test = test_generator.classes\n",
    "# Get the names of the classes from the data and store them in the variable named 'class_name'.\n",
    "class_name = test_generator.class_indices.keys()\n",
    "accuracy=np.mean(predict==test) # overall accuracy\n",
    "print(\"overall accuracy:\" , accuracy)"
   ]
  },
  {
   "cell_type": "code",
   "execution_count": null,
   "id": "59ee94bd-7b6d-4678-8581-5985bbffebea",
   "metadata": {},
   "outputs": [],
   "source": [
    "from sklearn.metrics import confusion_matrix\n",
    "import itertools\n",
    "import numpy as np\n",
    "import matplotlib.pyplot as plt  # Import matplotlib.pyplot\n",
    "\n",
    "# function to plot confusion matrix\n",
    "def plot_confusion_matrix(cm, classes, title='Confusion matrix', cmap=plt.cm.Reds):  \n",
    "    cm = cm.astype('float') / cm.sum(axis=1)[:, np.newaxis] # Normalize the confusion matrix\n",
    "    plt.figure(figsize=(10,10))  # figure size\n",
    "    plt.imshow(cm, interpolation='nearest', cmap=cmap)   \n",
    "    plt.title(title) #title of the plot\n",
    "    plt.colorbar() # Add a color bar\n",
    "    marks = np.arange(len(classes))  # Create markers for class labels\n",
    "    plt.xticks(marks, classes, rotation=45) # Define the x-axis tick labels using the class names and rotate them for better readability\n",
    "    plt.yticks(marks, classes) # y-axis tick marks using the class names.\n",
    "\n",
    "    f = '.2f' # Specify the format for the text displayed in the confusion matrix\n",
    "    t = cm.max() / 2.  # Threshold for text color\n",
    "    for i, j in itertools.product(range(cm.shape[0]), range(cm.shape[1])): #  Iterate over confusion matrix elements\n",
    "        plt.text(j, i, format(cm[i, j], f), # text to plot with format\n",
    "                 horizontalalignment=\"center\", # Center alignment\n",
    "                 color=\"black\" if cm[i, j] > t else \"black\")  # Adjust the color of the text in the confusion matrix based on a specified threshold\n",
    "        plt.ylabel('True') # y-axis label\n",
    "    plt.xlabel('Predicted') #  x-axis label\n",
    "    plt.tight_layout()  # Adjust layout\n",
    "\n",
    "# compute confusion matrix\n",
    "confusion = confusion_matrix(test, predict)\n",
    "np.set_printoptions(precision=2)\n",
    "\n",
    "# plot normalized confusion matrix\n",
    "plt.figure()\n",
    "# Designate the colormap (cmap) for the color scheme used in the confusion matrix plot\n",
    "plot_confusion_matrix(confusion, classes=class_name, title='Confusion Matrix', cmap=plt.cm.Reds)  \n",
    "plt.show() # display the plot"
   ]
  }
 ],
 "metadata": {
  "kernelspec": {
   "display_name": "Python 3 (ipykernel)",
   "language": "python",
   "name": "python3"
  },
  "language_info": {
   "codemirror_mode": {
    "name": "ipython",
    "version": 3
   },
   "file_extension": ".py",
   "mimetype": "text/x-python",
   "name": "python",
   "nbconvert_exporter": "python",
   "pygments_lexer": "ipython3",
   "version": "3.10.10"
  }
 },
 "nbformat": 4,
 "nbformat_minor": 5
}
